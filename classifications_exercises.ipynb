{
 "cells": [
  {
   "cell_type": "code",
   "execution_count": 1,
   "id": "1f30108b",
   "metadata": {},
   "outputs": [],
   "source": [
    "import numpy as np\n",
    "import scipy.stats as stats\n",
    "import pandas as pd\n",
    "import matplotlib.pyplot as plt\n",
    "import seaborn as sn\n",
    "from pydataset import data\n",
    "import warnings\n",
    "warnings.filterwarnings(\"ignore\")"
   ]
  },
  {
   "cell_type": "markdown",
   "id": "c31a5bd9",
   "metadata": {},
   "source": [
    "### Exercise IV"
   ]
  },
  {
   "cell_type": "markdown",
   "id": "12fa5bcc",
   "metadata": {},
   "source": [
    "In a jupyter notebook, classification_exercises.ipynb, use a python module (pydata or seaborn datasets) containing datasets as a source from the iris data. Create a pandas dataframe, df_iris, from this data.\n",
    "\n",
    "print the first 3 rows\n",
    "\n",
    "print the number of rows and columns (shape)\n",
    "\n",
    "print the column names\n",
    "\n",
    "print the data type of each column\n",
    "\n",
    "print the summary statistics for each of the numeric variables. Would you recommend rescaling the data based on these statistics?"
   ]
  },
  {
   "cell_type": "code",
   "execution_count": 2,
   "id": "0b27e418",
   "metadata": {},
   "outputs": [
    {
     "data": {
      "text/html": [
       "<div>\n",
       "<style scoped>\n",
       "    .dataframe tbody tr th:only-of-type {\n",
       "        vertical-align: middle;\n",
       "    }\n",
       "\n",
       "    .dataframe tbody tr th {\n",
       "        vertical-align: top;\n",
       "    }\n",
       "\n",
       "    .dataframe thead th {\n",
       "        text-align: right;\n",
       "    }\n",
       "</style>\n",
       "<table border=\"1\" class=\"dataframe\">\n",
       "  <thead>\n",
       "    <tr style=\"text-align: right;\">\n",
       "      <th></th>\n",
       "      <th>sepal_length</th>\n",
       "      <th>sepal_width</th>\n",
       "      <th>petal_length</th>\n",
       "      <th>petal_width</th>\n",
       "      <th>species</th>\n",
       "    </tr>\n",
       "  </thead>\n",
       "  <tbody>\n",
       "    <tr>\n",
       "      <th>0</th>\n",
       "      <td>5.1</td>\n",
       "      <td>3.5</td>\n",
       "      <td>1.4</td>\n",
       "      <td>0.2</td>\n",
       "      <td>setosa</td>\n",
       "    </tr>\n",
       "    <tr>\n",
       "      <th>1</th>\n",
       "      <td>4.9</td>\n",
       "      <td>3.0</td>\n",
       "      <td>1.4</td>\n",
       "      <td>0.2</td>\n",
       "      <td>setosa</td>\n",
       "    </tr>\n",
       "    <tr>\n",
       "      <th>2</th>\n",
       "      <td>4.7</td>\n",
       "      <td>3.2</td>\n",
       "      <td>1.3</td>\n",
       "      <td>0.2</td>\n",
       "      <td>setosa</td>\n",
       "    </tr>\n",
       "  </tbody>\n",
       "</table>\n",
       "</div>"
      ],
      "text/plain": [
       "   sepal_length  sepal_width  petal_length  petal_width species\n",
       "0           5.1          3.5           1.4          0.2  setosa\n",
       "1           4.9          3.0           1.4          0.2  setosa\n",
       "2           4.7          3.2           1.3          0.2  setosa"
      ]
     },
     "execution_count": 2,
     "metadata": {},
     "output_type": "execute_result"
    }
   ],
   "source": [
    "df_iris = data('iris')\n",
    "df_iris_sn = sn.load_dataset('iris')\n",
    "df_iris_sn.head(3)"
   ]
  },
  {
   "cell_type": "code",
   "execution_count": 3,
   "id": "d97c26c5",
   "metadata": {},
   "outputs": [
    {
     "data": {
      "text/html": [
       "<div>\n",
       "<style scoped>\n",
       "    .dataframe tbody tr th:only-of-type {\n",
       "        vertical-align: middle;\n",
       "    }\n",
       "\n",
       "    .dataframe tbody tr th {\n",
       "        vertical-align: top;\n",
       "    }\n",
       "\n",
       "    .dataframe thead th {\n",
       "        text-align: right;\n",
       "    }\n",
       "</style>\n",
       "<table border=\"1\" class=\"dataframe\">\n",
       "  <thead>\n",
       "    <tr style=\"text-align: right;\">\n",
       "      <th></th>\n",
       "      <th>sepal_length</th>\n",
       "      <th>sepal_width</th>\n",
       "      <th>petal_length</th>\n",
       "      <th>petal_width</th>\n",
       "      <th>species</th>\n",
       "    </tr>\n",
       "  </thead>\n",
       "  <tbody>\n",
       "    <tr>\n",
       "      <th>1</th>\n",
       "      <td>5.1</td>\n",
       "      <td>3.5</td>\n",
       "      <td>1.4</td>\n",
       "      <td>0.2</td>\n",
       "      <td>setosa</td>\n",
       "    </tr>\n",
       "    <tr>\n",
       "      <th>2</th>\n",
       "      <td>4.9</td>\n",
       "      <td>3.0</td>\n",
       "      <td>1.4</td>\n",
       "      <td>0.2</td>\n",
       "      <td>setosa</td>\n",
       "    </tr>\n",
       "    <tr>\n",
       "      <th>3</th>\n",
       "      <td>4.7</td>\n",
       "      <td>3.2</td>\n",
       "      <td>1.3</td>\n",
       "      <td>0.2</td>\n",
       "      <td>setosa</td>\n",
       "    </tr>\n",
       "    <tr>\n",
       "      <th>4</th>\n",
       "      <td>4.6</td>\n",
       "      <td>3.1</td>\n",
       "      <td>1.5</td>\n",
       "      <td>0.2</td>\n",
       "      <td>setosa</td>\n",
       "    </tr>\n",
       "    <tr>\n",
       "      <th>5</th>\n",
       "      <td>5.0</td>\n",
       "      <td>3.6</td>\n",
       "      <td>1.4</td>\n",
       "      <td>0.2</td>\n",
       "      <td>setosa</td>\n",
       "    </tr>\n",
       "  </tbody>\n",
       "</table>\n",
       "</div>"
      ],
      "text/plain": [
       "   sepal_length  sepal_width  petal_length  petal_width species\n",
       "1           5.1          3.5           1.4          0.2  setosa\n",
       "2           4.9          3.0           1.4          0.2  setosa\n",
       "3           4.7          3.2           1.3          0.2  setosa\n",
       "4           4.6          3.1           1.5          0.2  setosa\n",
       "5           5.0          3.6           1.4          0.2  setosa"
      ]
     },
     "execution_count": 3,
     "metadata": {},
     "output_type": "execute_result"
    }
   ],
   "source": [
    "df_iris.columns = df_iris.columns.str.lower().str.replace('.', '_')\n",
    "df_iris.head()"
   ]
  },
  {
   "cell_type": "code",
   "execution_count": 4,
   "id": "ecc0a20f",
   "metadata": {},
   "outputs": [
    {
     "name": "stdout",
     "output_type": "stream",
     "text": [
      "First 3 rows\n",
      "------------\n",
      "   sepal_length  sepal_width  petal_length  petal_width species\n",
      "1           5.1          3.5           1.4          0.2  setosa\n",
      "2           4.9          3.0           1.4          0.2  setosa\n",
      "3           4.7          3.2           1.3          0.2  setosa\n",
      "==================================\n",
      "There are 150 rows and 5 columns.\n",
      "==================================\n",
      "Column names\n",
      "-------------\n",
      "sepal_length    float64\n",
      "sepal_width     float64\n",
      "petal_length    float64\n",
      "petal_width     float64\n",
      "species          object\n",
      "dtype: object\n",
      "==================================\n",
      "Data Frame Info\n",
      "---------------\n",
      "<class 'pandas.core.frame.DataFrame'>\n",
      "Int64Index: 150 entries, 1 to 150\n",
      "Data columns (total 5 columns):\n",
      " #   Column        Non-Null Count  Dtype  \n",
      "---  ------        --------------  -----  \n",
      " 0   sepal_length  150 non-null    float64\n",
      " 1   sepal_width   150 non-null    float64\n",
      " 2   petal_length  150 non-null    float64\n",
      " 3   petal_width   150 non-null    float64\n",
      " 4   species       150 non-null    object \n",
      "dtypes: float64(4), object(1)\n",
      "memory usage: 7.0+ KB\n",
      "None\n",
      "==================================\n",
      "Summary Statistics\n",
      "------------------\n",
      "              count      mean       std  min  25%   50%  75%  max\n",
      "sepal_length  150.0  5.843333  0.828066  4.3  5.1  5.80  6.4  7.9\n",
      "sepal_width   150.0  3.057333  0.435866  2.0  2.8  3.00  3.3  4.4\n",
      "petal_length  150.0  3.758000  1.765298  1.0  1.6  4.35  5.1  6.9\n",
      "petal_width   150.0  1.199333  0.762238  0.1  0.3  1.30  1.8  2.5\n"
     ]
    }
   ],
   "source": [
    "if __name__ == '__main__':\n",
    "    print('First 3 rows')\n",
    "    print('------------')\n",
    "    print(df_iris.head(3))\n",
    "    print('==================================')\n",
    "    print(f'There are {df_iris.shape[0]} rows and {df_iris.shape[1]} columns.')\n",
    "    print('==================================')\n",
    "    print('Column names')\n",
    "    print('-------------')\n",
    "    print(df_iris.dtypes)\n",
    "    print('==================================')\n",
    "    print('Data Frame Info')\n",
    "    print('---------------')\n",
    "    print(df_iris.info())\n",
    "    print('==================================')\n",
    "    print('Summary Statistics')\n",
    "    print('------------------')\n",
    "    print(df_iris.describe().T)\n",
    "#nope, looks good to me"
   ]
  },
  {
   "cell_type": "markdown",
   "id": "bc747c7d",
   "metadata": {},
   "source": [
    "### Exercise V"
   ]
  },
  {
   "cell_type": "markdown",
   "id": "9975d044",
   "metadata": {},
   "source": [
    "Read the Table1_CustDetails table from the Excel_Exercises.xlsx file into a dataframe named df_excel.\n",
    "\n",
    "assign the first 100 rows to a new dataframe, df_excel_sample\n",
    "\n",
    "print the number of rows of your original dataframe\n",
    "\n",
    "print the first 5 column names\n",
    "\n",
    "print the column names that have a data type of object\n",
    "\n",
    "compute the range for each of the numeric variables."
   ]
  },
  {
   "cell_type": "code",
   "execution_count": 5,
   "id": "affdbfb5",
   "metadata": {},
   "outputs": [],
   "source": [
    "#df_excel = pd.read_clipboard()\n",
    "#df_excel_sample = df_excel.head(100)\n",
    "df_excel = pd.read_excel('Excel_Exercises.xlsx', sheet_name = 'Table1_CustDetails')\n",
    "df_excel_sample = df_excel.head(100)"
   ]
  },
  {
   "cell_type": "code",
   "execution_count": 6,
   "id": "26525524",
   "metadata": {},
   "outputs": [
    {
     "name": "stdout",
     "output_type": "stream",
     "text": [
      "There are 7049 rows\n",
      "==================================\n",
      "These are the first 5 columns\n",
      "-----------------------------\n",
      "['customer_id', 'gender', 'is_senior_citizen', 'partner', 'dependents']\n",
      "==================================\n",
      "These are the columns with data type \"object\"\n",
      "---------------------------------------------\n",
      "Index(['customer_id', 'gender', 'partner', 'dependents', 'payment_type',\n",
      "       'churn'],\n",
      "      dtype='object')\n",
      "==================================\n",
      "Numeric variable ranges\n",
      "-----------------------\n",
      "monthly_charges     100.5\n",
      "total_charges      8666.0\n",
      "Unnamed: 12           NaN\n",
      "Unnamed: 13           NaN\n",
      "dtype: float64\n"
     ]
    }
   ],
   "source": [
    "if __name__ == '__main__':\n",
    "    print(f'There are {df_excel.shape[0]} rows')\n",
    "    print('==================================')\n",
    "    print('These are the first 5 columns')\n",
    "    print('-----------------------------')\n",
    "    print(df_excel.columns[:5].to_list())\n",
    "    print('==================================')\n",
    "    print('These are the columns with data type \"object\"')\n",
    "    print('---------------------------------------------')\n",
    "    print(df_excel.columns[df_excel.dtypes == object])\n",
    "    print('==================================')\n",
    "    print('Numeric variable ranges')\n",
    "    print('-----------------------')\n",
    "    print(df_excel[df_excel.columns[df_excel.dtypes == float]].max() - df_excel[df_excel.columns[df_excel.dtypes == float]].min())\n",
    "#space"
   ]
  },
  {
   "cell_type": "code",
   "execution_count": 7,
   "id": "f45a9023",
   "metadata": {},
   "outputs": [
    {
     "name": "stdout",
     "output_type": "stream",
     "text": [
      "<class 'pandas.core.frame.DataFrame'>\n",
      "RangeIndex: 7049 entries, 0 to 7048\n",
      "Data columns (total 14 columns):\n",
      " #   Column             Non-Null Count  Dtype  \n",
      "---  ------             --------------  -----  \n",
      " 0   customer_id        7049 non-null   object \n",
      " 1   gender             7049 non-null   object \n",
      " 2   is_senior_citizen  7049 non-null   int64  \n",
      " 3   partner            7049 non-null   object \n",
      " 4   dependents         7049 non-null   object \n",
      " 5   phone_service      7049 non-null   int64  \n",
      " 6   internet_service   7049 non-null   int64  \n",
      " 7   contract_type      7049 non-null   int64  \n",
      " 8   payment_type       7049 non-null   object \n",
      " 9   monthly_charges    7049 non-null   float64\n",
      " 10  total_charges      7038 non-null   float64\n",
      " 11  churn              7049 non-null   object \n",
      " 12  Unnamed: 12        0 non-null      float64\n",
      " 13  Unnamed: 13        0 non-null      float64\n",
      "dtypes: float64(4), int64(4), object(6)\n",
      "memory usage: 771.1+ KB\n"
     ]
    },
    {
     "data": {
      "text/plain": [
       "(                    count         mean          std    min       25%      50%  \\\n",
       " is_senior_citizen  7049.0     0.162009     0.368485   0.00    0.0000     0.00   \n",
       " phone_service      7049.0     1.324585     0.642709   0.00    1.0000     1.00   \n",
       " internet_service   7049.0     1.222585     0.779068   0.00    1.0000     1.00   \n",
       " contract_type      7049.0     0.690878     0.833757   0.00    0.0000     0.00   \n",
       " monthly_charges    7049.0    64.747014    30.099460  18.25   35.4500    70.35   \n",
       " total_charges      7038.0  2283.043883  2266.521984  18.80  401.5875  1397.10   \n",
       " Unnamed: 12           0.0          NaN          NaN    NaN       NaN      NaN   \n",
       " Unnamed: 13           0.0          NaN          NaN    NaN       NaN      NaN   \n",
       " \n",
       "                         75%      max  \n",
       " is_senior_citizen     0.000     1.00  \n",
       " phone_service         2.000     2.00  \n",
       " internet_service      2.000     2.00  \n",
       " contract_type         1.000     2.00  \n",
       " monthly_charges      89.850   118.75  \n",
       " total_charges      3793.775  8684.80  \n",
       " Unnamed: 12             NaN      NaN  \n",
       " Unnamed: 13             NaN      NaN  ,\n",
       " None)"
      ]
     },
     "execution_count": 7,
     "metadata": {},
     "output_type": "execute_result"
    }
   ],
   "source": [
    "df_excel.describe().T, df_excel.info()"
   ]
  },
  {
   "cell_type": "code",
   "execution_count": 8,
   "id": "6215024e",
   "metadata": {},
   "outputs": [],
   "source": [
    "#df_excel.select_dtypes(include=[object]) <-- this is cool, mason\n",
    "#df_excel[df_excel.columns[(df_excel.dtypes == float) | (df_excel.dtypes == int)]].max() - df_excel[df_excel.columns[(df_excel.dtypes == float) | (df_excel.dtypes == int)]].min()"
   ]
  },
  {
   "cell_type": "markdown",
   "id": "137b946e",
   "metadata": {},
   "source": [
    "### Exercise 6"
   ]
  },
  {
   "cell_type": "markdown",
   "id": "634ea38e",
   "metadata": {},
   "source": [
    "Read the data from this google sheet into a dataframe, df_google\n",
    "\n",
    "print the first 3 rows.\n",
    "\n",
    "print the number of rows and columns.\n",
    "\n",
    "print the column names.\n",
    "\n",
    "print the data type of each column.\n",
    "\n",
    "print the summary statistics for each of the numeric variables.\n",
    "\n",
    "print the unique values for each of your categorical variables."
   ]
  },
  {
   "cell_type": "code",
   "execution_count": 9,
   "id": "15c1c490",
   "metadata": {},
   "outputs": [],
   "source": [
    "#df_google = pd.read_clipboard()\n",
    "sheet_url = 'https://docs.google.com/spreadsheets/d/1Uhtml8KY19LILuZsrDtlsHHDC9wuDGUSe8LTEwvdI5g/edit#gid=341089357'\n",
    "csv_export_url = sheet_url.replace('/edit#gid=', '/export?format=csv&gid=')\n",
    "df_google = pd.read_csv(csv_export_url)"
   ]
  },
  {
   "cell_type": "code",
   "execution_count": 10,
   "id": "f8dfc186",
   "metadata": {},
   "outputs": [
    {
     "name": "stdout",
     "output_type": "stream",
     "text": [
      "These are the first 3 rows:\n",
      "---------------------------\n",
      "   PassengerId  Survived  Pclass  \\\n",
      "0            1         0       3   \n",
      "1            2         1       1   \n",
      "2            3         1       3   \n",
      "\n",
      "                                                  Name     Sex   Age  SibSp  \\\n",
      "0                              Braund, Mr. Owen Harris    male  22.0      1   \n",
      "1  Cumings, Mrs. John Bradley (Florence Briggs Thayer)  female  38.0      1   \n",
      "2                               Heikkinen, Miss. Laina  female  26.0      0   \n",
      "\n",
      "   Parch            Ticket     Fare Cabin Embarked  \n",
      "0      0         A/5 21171   7.2500   NaN        S  \n",
      "1      0          PC 17599  71.2833   C85        C  \n",
      "2      0  STON/O2. 3101282   7.9250   NaN        S  \n",
      "===================================================\n",
      "There are 891 rows and 12 columns\n",
      "===================================================\n",
      "These are the column names and data types:\n",
      "------------------------------------------\n",
      "PassengerId      int64\n",
      "Survived         int64\n",
      "Pclass           int64\n",
      "Name            object\n",
      "Sex             object\n",
      "Age            float64\n",
      "SibSp            int64\n",
      "Parch            int64\n",
      "Ticket          object\n",
      "Fare           float64\n",
      "Cabin           object\n",
      "Embarked        object\n",
      "dtype: object\n",
      "===================================================\n",
      "Summary Statistics\n",
      "------------------\n",
      "             count        mean         std   min       25%       50%    75%  \\\n",
      "PassengerId  891.0  446.000000  257.353842  1.00  223.5000  446.0000  668.5   \n",
      "Survived     891.0    0.383838    0.486592  0.00    0.0000    0.0000    1.0   \n",
      "Pclass       891.0    2.308642    0.836071  1.00    2.0000    3.0000    3.0   \n",
      "Age          714.0   29.699118   14.526497  0.42   20.1250   28.0000   38.0   \n",
      "SibSp        891.0    0.523008    1.102743  0.00    0.0000    0.0000    1.0   \n",
      "Parch        891.0    0.381594    0.806057  0.00    0.0000    0.0000    0.0   \n",
      "Fare         891.0   32.204208   49.693429  0.00    7.9104   14.4542   31.0   \n",
      "\n",
      "                  max  \n",
      "PassengerId  891.0000  \n",
      "Survived       1.0000  \n",
      "Pclass         3.0000  \n",
      "Age           80.0000  \n",
      "SibSp          8.0000  \n",
      "Parch          6.0000  \n",
      "Fare         512.3292  \n"
     ]
    }
   ],
   "source": [
    "if __name__ == '__main__':\n",
    "    print('These are the first 3 rows:')\n",
    "    print('---------------------------')\n",
    "    print(df_google.head(3))\n",
    "    print('===================================================')\n",
    "    print(f'There are {df_google.shape[0]} rows and {df_google.shape[1]} columns')\n",
    "    print('===================================================')\n",
    "    print('These are the column names and data types:')\n",
    "    print('------------------------------------------')\n",
    "    print(df_google.dtypes)\n",
    "    print('===================================================')\n",
    "    print('Summary Statistics')\n",
    "    print('------------------')\n",
    "    print(df_google.describe().T)"
   ]
  },
  {
   "cell_type": "code",
   "execution_count": 11,
   "id": "880c8e78",
   "metadata": {},
   "outputs": [
    {
     "name": "stdout",
     "output_type": "stream",
     "text": [
      "PassengerId has 891 unique values.\n",
      "Survived has 2 unique values.\n",
      "Pclass has 3 unique values.\n",
      "Name has 891 unique values.\n",
      "Sex has 2 unique values.\n",
      "Age has 88 unique values.\n",
      "SibSp has 7 unique values.\n",
      "Parch has 7 unique values.\n",
      "Ticket has 681 unique values.\n",
      "Fare has 248 unique values.\n",
      "Cabin has 147 unique values.\n",
      "Embarked has 3 unique values.\n"
     ]
    }
   ],
   "source": [
    "if __name__ == '__main__':    \n",
    "    for x in df_google.columns:\n",
    "        print(f'{x} has {df_google[x].nunique()} unique values.')"
   ]
  },
  {
   "cell_type": "code",
   "execution_count": 12,
   "id": "11de29b9",
   "metadata": {},
   "outputs": [
    {
     "name": "stdout",
     "output_type": "stream",
     "text": [
      "Unique Values for Categorical Variables\n",
      "---------------------------------------\n",
      "Survived\n",
      "--------\n",
      "0    549\n",
      "1    342\n",
      "Name: Survived, dtype: int64\n",
      "========================\n",
      "Pclass\n",
      "------\n",
      "3    491\n",
      "1    216\n",
      "2    184\n",
      "Name: Pclass, dtype: int64\n",
      "========================\n",
      "Sex\n",
      "---\n",
      "male      577\n",
      "female    314\n",
      "Name: Sex, dtype: int64\n",
      "========================\n",
      "Embarked\n",
      "--------\n",
      "S      644\n",
      "C      168\n",
      "Q       77\n",
      "NaN      2\n",
      "Name: Embarked, dtype: int64\n"
     ]
    }
   ],
   "source": [
    "if __name__ == '__main__':\n",
    "    print('Unique Values for Categorical Variables')\n",
    "    print('---------------------------------------')\n",
    "    print('Survived')\n",
    "    print('--------')\n",
    "    print(df_google.Survived.value_counts(dropna = False))\n",
    "    print('========================')\n",
    "    print('Pclass')\n",
    "    print('------')\n",
    "    print(df_google.Pclass.value_counts(dropna = False))\n",
    "    print('========================')\n",
    "    print('Sex')\n",
    "    print('---')\n",
    "    print(df_google.Sex.value_counts(dropna = False))\n",
    "    print('========================')\n",
    "    print('Embarked')\n",
    "    print('--------')\n",
    "    print(df_google.Embarked.value_counts(dropna = False))"
   ]
  },
  {
   "cell_type": "code",
   "execution_count": null,
   "id": "a0e55c3b",
   "metadata": {},
   "outputs": [],
   "source": []
  }
 ],
 "metadata": {
  "kernelspec": {
   "display_name": "Python 3",
   "language": "python",
   "name": "python3"
  },
  "language_info": {
   "codemirror_mode": {
    "name": "ipython",
    "version": 3
   },
   "file_extension": ".py",
   "mimetype": "text/x-python",
   "name": "python",
   "nbconvert_exporter": "python",
   "pygments_lexer": "ipython3",
   "version": "3.8.8"
  }
 },
 "nbformat": 4,
 "nbformat_minor": 5
}
